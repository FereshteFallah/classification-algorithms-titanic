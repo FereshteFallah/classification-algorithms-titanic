{
 "cells": [
  {
   "cell_type": "markdown",
   "id": "6b64bfd4-bba1-40e5-b068-9628f68ddb17",
   "metadata": {},
   "source": [
    "### analyze and evaluate the Titanic dataset and improve the accuracy of the survival prediction model ###"
   ]
  },
  {
   "cell_type": "markdown",
   "id": "a052ff2e-4957-436b-9370-81f9265665df",
   "metadata": {},
   "source": [
    "**Seaborn and Pandas are both used for data analysis in Python, but they have different roles. Here, Pandas is used for managing and processing DataFrame data, while Seaborn is used for visualization.**"
   ]
  },
  {
   "cell_type": "code",
   "execution_count": 1,
   "id": "ff2e9248-3bd5-4664-b7a6-30a295445b13",
   "metadata": {},
   "outputs": [],
   "source": [
    "import pandas as pd\n",
    "import seaborn as sns"
   ]
  },
  {
   "cell_type": "markdown",
   "id": "a04b4a0e-5321-44ea-90c6-6b214f7ced69",
   "metadata": {},
   "source": [
    "**Loading and Viewing the Dataset(Download dataset file from git or Kaggel)**"
   ]
  },
  {
   "cell_type": "code",
   "execution_count": 2,
   "id": "21cab449-c969-4f6a-b664-46acd3d469c2",
   "metadata": {},
   "outputs": [
    {
     "data": {
      "text/html": [
       "<div>\n",
       "<style scoped>\n",
       "    .dataframe tbody tr th:only-of-type {\n",
       "        vertical-align: middle;\n",
       "    }\n",
       "\n",
       "    .dataframe tbody tr th {\n",
       "        vertical-align: top;\n",
       "    }\n",
       "\n",
       "    .dataframe thead th {\n",
       "        text-align: right;\n",
       "    }\n",
       "</style>\n",
       "<table border=\"1\" class=\"dataframe\">\n",
       "  <thead>\n",
       "    <tr style=\"text-align: right;\">\n",
       "      <th></th>\n",
       "      <th>PassengerId</th>\n",
       "      <th>Survived</th>\n",
       "      <th>Pclass</th>\n",
       "      <th>Name</th>\n",
       "      <th>Sex</th>\n",
       "      <th>Age</th>\n",
       "      <th>SibSp</th>\n",
       "      <th>Parch</th>\n",
       "      <th>Ticket</th>\n",
       "      <th>Fare</th>\n",
       "      <th>Cabin</th>\n",
       "      <th>Embarked</th>\n",
       "    </tr>\n",
       "  </thead>\n",
       "  <tbody>\n",
       "    <tr>\n",
       "      <th>0</th>\n",
       "      <td>1</td>\n",
       "      <td>0</td>\n",
       "      <td>3</td>\n",
       "      <td>Braund, Mr. Owen Harris</td>\n",
       "      <td>male</td>\n",
       "      <td>22.0</td>\n",
       "      <td>1</td>\n",
       "      <td>0</td>\n",
       "      <td>A/5 21171</td>\n",
       "      <td>7.2500</td>\n",
       "      <td>NaN</td>\n",
       "      <td>S</td>\n",
       "    </tr>\n",
       "    <tr>\n",
       "      <th>1</th>\n",
       "      <td>2</td>\n",
       "      <td>1</td>\n",
       "      <td>1</td>\n",
       "      <td>Cumings, Mrs. John Bradley (Florence Briggs Th...</td>\n",
       "      <td>female</td>\n",
       "      <td>38.0</td>\n",
       "      <td>1</td>\n",
       "      <td>0</td>\n",
       "      <td>PC 17599</td>\n",
       "      <td>71.2833</td>\n",
       "      <td>C85</td>\n",
       "      <td>C</td>\n",
       "    </tr>\n",
       "    <tr>\n",
       "      <th>2</th>\n",
       "      <td>3</td>\n",
       "      <td>1</td>\n",
       "      <td>3</td>\n",
       "      <td>Heikkinen, Miss. Laina</td>\n",
       "      <td>female</td>\n",
       "      <td>26.0</td>\n",
       "      <td>0</td>\n",
       "      <td>0</td>\n",
       "      <td>STON/O2. 3101282</td>\n",
       "      <td>7.9250</td>\n",
       "      <td>NaN</td>\n",
       "      <td>S</td>\n",
       "    </tr>\n",
       "    <tr>\n",
       "      <th>3</th>\n",
       "      <td>4</td>\n",
       "      <td>1</td>\n",
       "      <td>1</td>\n",
       "      <td>Futrelle, Mrs. Jacques Heath (Lily May Peel)</td>\n",
       "      <td>female</td>\n",
       "      <td>35.0</td>\n",
       "      <td>1</td>\n",
       "      <td>0</td>\n",
       "      <td>113803</td>\n",
       "      <td>53.1000</td>\n",
       "      <td>C123</td>\n",
       "      <td>S</td>\n",
       "    </tr>\n",
       "    <tr>\n",
       "      <th>4</th>\n",
       "      <td>5</td>\n",
       "      <td>0</td>\n",
       "      <td>3</td>\n",
       "      <td>Allen, Mr. William Henry</td>\n",
       "      <td>male</td>\n",
       "      <td>35.0</td>\n",
       "      <td>0</td>\n",
       "      <td>0</td>\n",
       "      <td>373450</td>\n",
       "      <td>8.0500</td>\n",
       "      <td>NaN</td>\n",
       "      <td>S</td>\n",
       "    </tr>\n",
       "    <tr>\n",
       "      <th>...</th>\n",
       "      <td>...</td>\n",
       "      <td>...</td>\n",
       "      <td>...</td>\n",
       "      <td>...</td>\n",
       "      <td>...</td>\n",
       "      <td>...</td>\n",
       "      <td>...</td>\n",
       "      <td>...</td>\n",
       "      <td>...</td>\n",
       "      <td>...</td>\n",
       "      <td>...</td>\n",
       "      <td>...</td>\n",
       "    </tr>\n",
       "    <tr>\n",
       "      <th>886</th>\n",
       "      <td>887</td>\n",
       "      <td>0</td>\n",
       "      <td>2</td>\n",
       "      <td>Montvila, Rev. Juozas</td>\n",
       "      <td>male</td>\n",
       "      <td>27.0</td>\n",
       "      <td>0</td>\n",
       "      <td>0</td>\n",
       "      <td>211536</td>\n",
       "      <td>13.0000</td>\n",
       "      <td>NaN</td>\n",
       "      <td>S</td>\n",
       "    </tr>\n",
       "    <tr>\n",
       "      <th>887</th>\n",
       "      <td>888</td>\n",
       "      <td>1</td>\n",
       "      <td>1</td>\n",
       "      <td>Graham, Miss. Margaret Edith</td>\n",
       "      <td>female</td>\n",
       "      <td>19.0</td>\n",
       "      <td>0</td>\n",
       "      <td>0</td>\n",
       "      <td>112053</td>\n",
       "      <td>30.0000</td>\n",
       "      <td>B42</td>\n",
       "      <td>S</td>\n",
       "    </tr>\n",
       "    <tr>\n",
       "      <th>888</th>\n",
       "      <td>889</td>\n",
       "      <td>0</td>\n",
       "      <td>3</td>\n",
       "      <td>Johnston, Miss. Catherine Helen \"Carrie\"</td>\n",
       "      <td>female</td>\n",
       "      <td>NaN</td>\n",
       "      <td>1</td>\n",
       "      <td>2</td>\n",
       "      <td>W./C. 6607</td>\n",
       "      <td>23.4500</td>\n",
       "      <td>NaN</td>\n",
       "      <td>S</td>\n",
       "    </tr>\n",
       "    <tr>\n",
       "      <th>889</th>\n",
       "      <td>890</td>\n",
       "      <td>1</td>\n",
       "      <td>1</td>\n",
       "      <td>Behr, Mr. Karl Howell</td>\n",
       "      <td>male</td>\n",
       "      <td>26.0</td>\n",
       "      <td>0</td>\n",
       "      <td>0</td>\n",
       "      <td>111369</td>\n",
       "      <td>30.0000</td>\n",
       "      <td>C148</td>\n",
       "      <td>C</td>\n",
       "    </tr>\n",
       "    <tr>\n",
       "      <th>890</th>\n",
       "      <td>891</td>\n",
       "      <td>0</td>\n",
       "      <td>3</td>\n",
       "      <td>Dooley, Mr. Patrick</td>\n",
       "      <td>male</td>\n",
       "      <td>32.0</td>\n",
       "      <td>0</td>\n",
       "      <td>0</td>\n",
       "      <td>370376</td>\n",
       "      <td>7.7500</td>\n",
       "      <td>NaN</td>\n",
       "      <td>Q</td>\n",
       "    </tr>\n",
       "  </tbody>\n",
       "</table>\n",
       "<p>891 rows × 12 columns</p>\n",
       "</div>"
      ],
      "text/plain": [
       "     PassengerId  Survived  Pclass  \\\n",
       "0              1         0       3   \n",
       "1              2         1       1   \n",
       "2              3         1       3   \n",
       "3              4         1       1   \n",
       "4              5         0       3   \n",
       "..           ...       ...     ...   \n",
       "886          887         0       2   \n",
       "887          888         1       1   \n",
       "888          889         0       3   \n",
       "889          890         1       1   \n",
       "890          891         0       3   \n",
       "\n",
       "                                                  Name     Sex   Age  SibSp  \\\n",
       "0                              Braund, Mr. Owen Harris    male  22.0      1   \n",
       "1    Cumings, Mrs. John Bradley (Florence Briggs Th...  female  38.0      1   \n",
       "2                               Heikkinen, Miss. Laina  female  26.0      0   \n",
       "3         Futrelle, Mrs. Jacques Heath (Lily May Peel)  female  35.0      1   \n",
       "4                             Allen, Mr. William Henry    male  35.0      0   \n",
       "..                                                 ...     ...   ...    ...   \n",
       "886                              Montvila, Rev. Juozas    male  27.0      0   \n",
       "887                       Graham, Miss. Margaret Edith  female  19.0      0   \n",
       "888           Johnston, Miss. Catherine Helen \"Carrie\"  female   NaN      1   \n",
       "889                              Behr, Mr. Karl Howell    male  26.0      0   \n",
       "890                                Dooley, Mr. Patrick    male  32.0      0   \n",
       "\n",
       "     Parch            Ticket     Fare Cabin Embarked  \n",
       "0        0         A/5 21171   7.2500   NaN        S  \n",
       "1        0          PC 17599  71.2833   C85        C  \n",
       "2        0  STON/O2. 3101282   7.9250   NaN        S  \n",
       "3        0            113803  53.1000  C123        S  \n",
       "4        0            373450   8.0500   NaN        S  \n",
       "..     ...               ...      ...   ...      ...  \n",
       "886      0            211536  13.0000   NaN        S  \n",
       "887      0            112053  30.0000   B42        S  \n",
       "888      2        W./C. 6607  23.4500   NaN        S  \n",
       "889      0            111369  30.0000  C148        C  \n",
       "890      0            370376   7.7500   NaN        Q  \n",
       "\n",
       "[891 rows x 12 columns]"
      ]
     },
     "execution_count": 2,
     "metadata": {},
     "output_type": "execute_result"
    }
   ],
   "source": [
    "df=pd.read_csv('~/Downloads/Titanic-Dataset.csv')\n",
    "df"
   ]
  },
  {
   "cell_type": "markdown",
   "id": "15d997db-0fff-468a-9586-5432bd1f6b86",
   "metadata": {},
   "source": [
    "**Finding missing values in each column.**"
   ]
  },
  {
   "cell_type": "code",
   "execution_count": 3,
   "id": "2ab234c1-6b75-4b7f-bbc0-b7b5be7665fa",
   "metadata": {},
   "outputs": [
    {
     "data": {
      "text/plain": [
       "PassengerId      0\n",
       "Survived         0\n",
       "Pclass           0\n",
       "Name             0\n",
       "Sex              0\n",
       "Age            177\n",
       "SibSp            0\n",
       "Parch            0\n",
       "Ticket           0\n",
       "Fare             0\n",
       "Cabin          687\n",
       "Embarked         2\n",
       "dtype: int64"
      ]
     },
     "execution_count": 3,
     "metadata": {},
     "output_type": "execute_result"
    }
   ],
   "source": [
    "df.isna().sum()"
   ]
  },
  {
   "cell_type": "markdown",
   "id": "6facc876-8c61-4acb-8ed1-1170290dab8f",
   "metadata": {},
   "source": [
    "**The describe() function in a DataFrame is used to display a summary of the data's statistics. This function provides information about the mean, standard deviation, minimum, maximum, and other statistical values for each numerical (or categorical) column in Pandas.**"
   ]
  },
  {
   "cell_type": "code",
   "execution_count": 4,
   "id": "be19648e-34e6-4eff-9c7c-561d378c2b1f",
   "metadata": {},
   "outputs": [
    {
     "data": {
      "text/html": [
       "<div>\n",
       "<style scoped>\n",
       "    .dataframe tbody tr th:only-of-type {\n",
       "        vertical-align: middle;\n",
       "    }\n",
       "\n",
       "    .dataframe tbody tr th {\n",
       "        vertical-align: top;\n",
       "    }\n",
       "\n",
       "    .dataframe thead th {\n",
       "        text-align: right;\n",
       "    }\n",
       "</style>\n",
       "<table border=\"1\" class=\"dataframe\">\n",
       "  <thead>\n",
       "    <tr style=\"text-align: right;\">\n",
       "      <th></th>\n",
       "      <th>PassengerId</th>\n",
       "      <th>Survived</th>\n",
       "      <th>Pclass</th>\n",
       "      <th>Age</th>\n",
       "      <th>SibSp</th>\n",
       "      <th>Parch</th>\n",
       "      <th>Fare</th>\n",
       "    </tr>\n",
       "  </thead>\n",
       "  <tbody>\n",
       "    <tr>\n",
       "      <th>count</th>\n",
       "      <td>891.000000</td>\n",
       "      <td>891.000000</td>\n",
       "      <td>891.000000</td>\n",
       "      <td>714.000000</td>\n",
       "      <td>891.000000</td>\n",
       "      <td>891.000000</td>\n",
       "      <td>891.000000</td>\n",
       "    </tr>\n",
       "    <tr>\n",
       "      <th>mean</th>\n",
       "      <td>446.000000</td>\n",
       "      <td>0.383838</td>\n",
       "      <td>2.308642</td>\n",
       "      <td>29.699118</td>\n",
       "      <td>0.523008</td>\n",
       "      <td>0.381594</td>\n",
       "      <td>32.204208</td>\n",
       "    </tr>\n",
       "    <tr>\n",
       "      <th>std</th>\n",
       "      <td>257.353842</td>\n",
       "      <td>0.486592</td>\n",
       "      <td>0.836071</td>\n",
       "      <td>14.526497</td>\n",
       "      <td>1.102743</td>\n",
       "      <td>0.806057</td>\n",
       "      <td>49.693429</td>\n",
       "    </tr>\n",
       "    <tr>\n",
       "      <th>min</th>\n",
       "      <td>1.000000</td>\n",
       "      <td>0.000000</td>\n",
       "      <td>1.000000</td>\n",
       "      <td>0.420000</td>\n",
       "      <td>0.000000</td>\n",
       "      <td>0.000000</td>\n",
       "      <td>0.000000</td>\n",
       "    </tr>\n",
       "    <tr>\n",
       "      <th>25%</th>\n",
       "      <td>223.500000</td>\n",
       "      <td>0.000000</td>\n",
       "      <td>2.000000</td>\n",
       "      <td>20.125000</td>\n",
       "      <td>0.000000</td>\n",
       "      <td>0.000000</td>\n",
       "      <td>7.910400</td>\n",
       "    </tr>\n",
       "    <tr>\n",
       "      <th>50%</th>\n",
       "      <td>446.000000</td>\n",
       "      <td>0.000000</td>\n",
       "      <td>3.000000</td>\n",
       "      <td>28.000000</td>\n",
       "      <td>0.000000</td>\n",
       "      <td>0.000000</td>\n",
       "      <td>14.454200</td>\n",
       "    </tr>\n",
       "    <tr>\n",
       "      <th>75%</th>\n",
       "      <td>668.500000</td>\n",
       "      <td>1.000000</td>\n",
       "      <td>3.000000</td>\n",
       "      <td>38.000000</td>\n",
       "      <td>1.000000</td>\n",
       "      <td>0.000000</td>\n",
       "      <td>31.000000</td>\n",
       "    </tr>\n",
       "    <tr>\n",
       "      <th>max</th>\n",
       "      <td>891.000000</td>\n",
       "      <td>1.000000</td>\n",
       "      <td>3.000000</td>\n",
       "      <td>80.000000</td>\n",
       "      <td>8.000000</td>\n",
       "      <td>6.000000</td>\n",
       "      <td>512.329200</td>\n",
       "    </tr>\n",
       "  </tbody>\n",
       "</table>\n",
       "</div>"
      ],
      "text/plain": [
       "       PassengerId    Survived      Pclass         Age       SibSp  \\\n",
       "count   891.000000  891.000000  891.000000  714.000000  891.000000   \n",
       "mean    446.000000    0.383838    2.308642   29.699118    0.523008   \n",
       "std     257.353842    0.486592    0.836071   14.526497    1.102743   \n",
       "min       1.000000    0.000000    1.000000    0.420000    0.000000   \n",
       "25%     223.500000    0.000000    2.000000   20.125000    0.000000   \n",
       "50%     446.000000    0.000000    3.000000   28.000000    0.000000   \n",
       "75%     668.500000    1.000000    3.000000   38.000000    1.000000   \n",
       "max     891.000000    1.000000    3.000000   80.000000    8.000000   \n",
       "\n",
       "            Parch        Fare  \n",
       "count  891.000000  891.000000  \n",
       "mean     0.381594   32.204208  \n",
       "std      0.806057   49.693429  \n",
       "min      0.000000    0.000000  \n",
       "25%      0.000000    7.910400  \n",
       "50%      0.000000   14.454200  \n",
       "75%      0.000000   31.000000  \n",
       "max      6.000000  512.329200  "
      ]
     },
     "execution_count": 4,
     "metadata": {},
     "output_type": "execute_result"
    }
   ],
   "source": [
    "df.describe()"
   ]
  },
  {
   "cell_type": "markdown",
   "id": "ab4ede57-9510-4b01-8157-97e7b01f49d8",
   "metadata": {},
   "source": [
    "**The df.info() function in Pandas is used to display general information about a DataFrame. This function provides details such as the number of rows, the data types of each column, the number of non-null values, and memory usage.**"
   ]
  },
  {
   "cell_type": "code",
   "execution_count": 5,
   "id": "5ed3904f-8264-4d43-89d2-0402a0628588",
   "metadata": {},
   "outputs": [
    {
     "name": "stdout",
     "output_type": "stream",
     "text": [
      "<class 'pandas.core.frame.DataFrame'>\n",
      "RangeIndex: 891 entries, 0 to 890\n",
      "Data columns (total 12 columns):\n",
      " #   Column       Non-Null Count  Dtype  \n",
      "---  ------       --------------  -----  \n",
      " 0   PassengerId  891 non-null    int64  \n",
      " 1   Survived     891 non-null    int64  \n",
      " 2   Pclass       891 non-null    int64  \n",
      " 3   Name         891 non-null    object \n",
      " 4   Sex          891 non-null    object \n",
      " 5   Age          714 non-null    float64\n",
      " 6   SibSp        891 non-null    int64  \n",
      " 7   Parch        891 non-null    int64  \n",
      " 8   Ticket       891 non-null    object \n",
      " 9   Fare         891 non-null    float64\n",
      " 10  Cabin        204 non-null    object \n",
      " 11  Embarked     889 non-null    object \n",
      "dtypes: float64(2), int64(5), object(5)\n",
      "memory usage: 83.7+ KB\n"
     ]
    }
   ],
   "source": [
    "df.info()"
   ]
  },
  {
   "cell_type": "code",
   "execution_count": 7,
   "id": "aeaa64be-8458-4187-aede-eba3226580bd",
   "metadata": {},
   "outputs": [
    {
     "data": {
      "image/png": "[encoded data removed]",
      "text/plain": [
       "<Figure size 572.111x500 with 1 Axes>"
      ]
     },
     "metadata": {},
     "output_type": "display_data"
    }
   ],
   "source": [
    "sns.catplot(x='Sex',hue='Survived',data=df,kind='count');"
   ]
  },
  {
   "cell_type": "code",
   "execution_count": 8,
   "id": "e37cddd2-00af-418b-8e46-22bc6f64d94b",
   "metadata": {},
   "outputs": [
    {
     "data": {
      "text/plain": [
       "Sex\n",
       "female    0.742038\n",
       "male      0.188908\n",
       "Name: Survived, dtype: float64"
      ]
     },
     "execution_count": 8,
     "metadata": {},
     "output_type": "execute_result"
    }
   ],
   "source": [
    "# Finding survivors based on gender.\n",
    "df.groupby('Sex')['Survived'].aggregate(lambda x:x.sum()/len(x))"
   ]
  },
  {
   "cell_type": "code",
   "execution_count": 9,
   "id": "f1b93303-c627-4404-976d-8dfd4f5e205c",
   "metadata": {},
   "outputs": [
    {
     "name": "stdout",
     "output_type": "stream",
     "text": [
      "Pclass      1   2    3\n",
      "Survived              \n",
      "0          80  97  372\n",
      "1         136  87  119\n"
     ]
    }
   ],
   "source": [
    "# Finding survivors based on Pclass.\n",
    "data=df.groupby(['Survived','Pclass']).size().unstack()\n",
    "print(data)"
   ]
  },
  {
   "cell_type": "markdown",
   "id": "a29f85e5-aaba-46a6-8013-78560677cd70",
   "metadata": {},
   "source": [
    "### Plotting Data ###"
   ]
  },
  {
   "cell_type": "markdown",
   "id": "96fe895f-4e5c-4568-a0ad-53cebb55d79d",
   "metadata": {},
   "source": [
    "The Heatmap is a type of thermal chart where data is displayed in a matrix, and different colors represent varying values in the cells of the matrix. This chart is commonly used to display:\n",
    "\n",
    "1-Correlation matrices between different features in a dataset\n",
    "2-The frequency or distribution of data in two-dimensional tables"
   ]
  },
  {
   "cell_type": "code",
   "execution_count": 10,
   "id": "f7f25985-267f-4a69-aa0d-f921162fcdd7",
   "metadata": {},
   "outputs": [
    {
     "data": {
      "text/plain": [
       "<Axes: xlabel='Pclass', ylabel='Survived'>"
      ]
     },
     "execution_count": 10,
     "metadata": {},
     "output_type": "execute_result"
    },
    {
     "data": {
      "image/png": "[encoded data removed]",
      "text/plain": [
       "<Figure size 640x480 with 2 Axes>"
      ]
     },
     "metadata": {},
     "output_type": "display_data"
    }
   ],
   "source": [
    "sns.heatmap(data)"
   ]
  },
  {
   "cell_type": "code",
   "execution_count": 11,
   "id": "766b3771-b522-47ed-ab85-8d15687ddff4",
   "metadata": {},
   "outputs": [
    {
     "data": {
      "text/plain": [
       "<Axes: xlabel='Pclass', ylabel='Survived'>"
      ]
     },
     "execution_count": 11,
     "metadata": {},
     "output_type": "execute_result"
    },
    {
     "data": {
      "image/png": "[encoded data removed]",
      "text/plain": [
       "<Figure size 640x480 with 2 Axes>"
      ]
     },
     "metadata": {},
     "output_type": "display_data"
    }
   ],
   "source": [
    "sns.heatmap(data,annot=True)"
   ]
  },
  {
   "cell_type": "code",
   "execution_count": 12,
   "id": "dcca8592-731c-4c4e-80f6-da262669efc9",
   "metadata": {},
   "outputs": [
    {
     "data": {
      "text/plain": [
       "<Axes: xlabel='Pclass', ylabel='Survived'>"
      ]
     },
     "execution_count": 12,
     "metadata": {},
     "output_type": "execute_result"
    },
    {
     "data": {
      "image/png": "[encoded data removed]",
      "text/plain": [
       "<Figure size 640x480 with 2 Axes>"
      ]
     },
     "metadata": {},
     "output_type": "display_data"
    }
   ],
   "source": [
    "sns.heatmap(data,annot=True,fmt='d')"
   ]
  },
  {
   "cell_type": "markdown",
   "id": "8b99f548-3e82-44ff-91fa-6da6ac803306",
   "metadata": {},
   "source": [
    "catplot is a function in the Seaborn library used for drawing categorical plots. This function provides a high-level interface for creating plots such as:Box Plot,Violin Plot,Strip Plot\n",
    "Swarm Plot\n",
    "Bar Plot\n",
    "Point Plot\n",
    "Count Plot"
   ]
  },
  {
   "cell_type": "code",
   "execution_count": 13,
   "id": "4c324afd-1265-4942-b4dc-212b00638fa1",
   "metadata": {},
   "outputs": [
    {
     "data": {
      "text/plain": [
       "<seaborn.axisgrid.FacetGrid at 0x13283b800>"
      ]
     },
     "execution_count": 13,
     "metadata": {},
     "output_type": "execute_result"
    },
    {
     "data": {
      "image/png": "[encoded data removed]",
      "text/plain": [
       "<Figure size 1598x500 with 3 Axes>"
      ]
     },
     "metadata": {},
     "output_type": "display_data"
    }
   ],
   "source": [
    "sns.catplot(x='Survived',hue='Sex',col='Pclass',data=df,kind='count')"
   ]
  },
  {
   "cell_type": "markdown",
   "id": "57eebfb3-8f48-4ff7-abab-ca0300dc6cd5",
   "metadata": {},
   "source": [
    "### Data Cleaning ###"
   ]
  },
  {
   "cell_type": "code",
   "execution_count": 6,
   "id": "f179fc2f-b674-4cfb-8458-2c4417d59892",
   "metadata": {},
   "outputs": [
    {
     "data": {
      "text/plain": [
       "PassengerId    0\n",
       "Survived       0\n",
       "Pclass         0\n",
       "Name           0\n",
       "Sex            0\n",
       "Age            0\n",
       "SibSp          0\n",
       "Parch          0\n",
       "Ticket         0\n",
       "Fare           0\n",
       "Cabin          1\n",
       "Embarked       0\n",
       "dtype: int64"
      ]
     },
     "execution_count": 6,
     "metadata": {},
     "output_type": "execute_result"
    }
   ],
   "source": [
    "# 1:This function fills NaN values with the last available value before them.\n",
    "df=df.ffill()\n",
    "df.isna().sum()"
   ]
  },
  {
   "cell_type": "code",
   "execution_count": 7,
   "id": "c38128b9-ca3d-4773-b868-f9fa2b184c9c",
   "metadata": {},
   "outputs": [],
   "source": [
    "# 2:drop unnecessary columns/rows\n",
    "df=df.drop(columns=['Name','Ticket','Cabin','PassengerId'])"
   ]
  },
  {
   "cell_type": "markdown",
   "id": "c5b10c4e-665e-4012-8487-4f3efae46922",
   "metadata": {},
   "source": [
    "### Feature Engineering ###"
   ]
  },
  {
   "cell_type": "code",
   "execution_count": 8,
   "id": "64363cb0-312a-4d6f-bebf-705dd71c82b7",
   "metadata": {},
   "outputs": [],
   "source": [
    "# LabelEncoder is a class from the sklearn.preprocessing library used to convert categorical data to numerical data.\n",
    "#This tool is commonly used to convert textual or categorical features (such as gender, color, or type) into numbers \n",
    "#so that machine learning algorithms can work with them.\n",
    "\n",
    "\n",
    "from sklearn.preprocessing import LabelEncoder\n",
    "\n",
    "le=LabelEncoder()\n",
    "df['Sex']=le.fit_transform(df['Sex'])\n",
    "df['Embarked']=le.fit_transform(df['Embarked'])\n"
   ]
  },
  {
   "cell_type": "code",
   "execution_count": 9,
   "id": "78e31b00-ef41-4651-b9f2-5902c39991e4",
   "metadata": {},
   "outputs": [],
   "source": [
    "target=df['Survived']\n",
    "df=df.drop(columns=['Survived']) #Survived column is target so we should remove it to prevent overfitting."
   ]
  },
  {
   "cell_type": "code",
   "execution_count": 10,
   "id": "ebacb56f-a340-4fe8-a51d-bdd157e8ac75",
   "metadata": {},
   "outputs": [
    {
     "data": {
      "text/html": [
       "<div>\n",
       "<style scoped>\n",
       "    .dataframe tbody tr th:only-of-type {\n",
       "        vertical-align: middle;\n",
       "    }\n",
       "\n",
       "    .dataframe tbody tr th {\n",
       "        vertical-align: top;\n",
       "    }\n",
       "\n",
       "    .dataframe thead th {\n",
       "        text-align: right;\n",
       "    }\n",
       "</style>\n",
       "<table border=\"1\" class=\"dataframe\">\n",
       "  <thead>\n",
       "    <tr style=\"text-align: right;\">\n",
       "      <th></th>\n",
       "      <th>Pclass</th>\n",
       "      <th>Sex</th>\n",
       "      <th>Age</th>\n",
       "      <th>SibSp</th>\n",
       "      <th>Parch</th>\n",
       "      <th>Fare</th>\n",
       "      <th>Embarked</th>\n",
       "    </tr>\n",
       "  </thead>\n",
       "  <tbody>\n",
       "    <tr>\n",
       "      <th>0</th>\n",
       "      <td>3</td>\n",
       "      <td>1</td>\n",
       "      <td>22.0</td>\n",
       "      <td>1</td>\n",
       "      <td>0</td>\n",
       "      <td>7.2500</td>\n",
       "      <td>2</td>\n",
       "    </tr>\n",
       "    <tr>\n",
       "      <th>1</th>\n",
       "      <td>1</td>\n",
       "      <td>0</td>\n",
       "      <td>38.0</td>\n",
       "      <td>1</td>\n",
       "      <td>0</td>\n",
       "      <td>71.2833</td>\n",
       "      <td>0</td>\n",
       "    </tr>\n",
       "    <tr>\n",
       "      <th>2</th>\n",
       "      <td>3</td>\n",
       "      <td>0</td>\n",
       "      <td>26.0</td>\n",
       "      <td>0</td>\n",
       "      <td>0</td>\n",
       "      <td>7.9250</td>\n",
       "      <td>2</td>\n",
       "    </tr>\n",
       "    <tr>\n",
       "      <th>3</th>\n",
       "      <td>1</td>\n",
       "      <td>0</td>\n",
       "      <td>35.0</td>\n",
       "      <td>1</td>\n",
       "      <td>0</td>\n",
       "      <td>53.1000</td>\n",
       "      <td>2</td>\n",
       "    </tr>\n",
       "    <tr>\n",
       "      <th>4</th>\n",
       "      <td>3</td>\n",
       "      <td>1</td>\n",
       "      <td>35.0</td>\n",
       "      <td>0</td>\n",
       "      <td>0</td>\n",
       "      <td>8.0500</td>\n",
       "      <td>2</td>\n",
       "    </tr>\n",
       "    <tr>\n",
       "      <th>...</th>\n",
       "      <td>...</td>\n",
       "      <td>...</td>\n",
       "      <td>...</td>\n",
       "      <td>...</td>\n",
       "      <td>...</td>\n",
       "      <td>...</td>\n",
       "      <td>...</td>\n",
       "    </tr>\n",
       "    <tr>\n",
       "      <th>886</th>\n",
       "      <td>2</td>\n",
       "      <td>1</td>\n",
       "      <td>27.0</td>\n",
       "      <td>0</td>\n",
       "      <td>0</td>\n",
       "      <td>13.0000</td>\n",
       "      <td>2</td>\n",
       "    </tr>\n",
       "    <tr>\n",
       "      <th>887</th>\n",
       "      <td>1</td>\n",
       "      <td>0</td>\n",
       "      <td>19.0</td>\n",
       "      <td>0</td>\n",
       "      <td>0</td>\n",
       "      <td>30.0000</td>\n",
       "      <td>2</td>\n",
       "    </tr>\n",
       "    <tr>\n",
       "      <th>888</th>\n",
       "      <td>3</td>\n",
       "      <td>0</td>\n",
       "      <td>19.0</td>\n",
       "      <td>1</td>\n",
       "      <td>2</td>\n",
       "      <td>23.4500</td>\n",
       "      <td>2</td>\n",
       "    </tr>\n",
       "    <tr>\n",
       "      <th>889</th>\n",
       "      <td>1</td>\n",
       "      <td>1</td>\n",
       "      <td>26.0</td>\n",
       "      <td>0</td>\n",
       "      <td>0</td>\n",
       "      <td>30.0000</td>\n",
       "      <td>0</td>\n",
       "    </tr>\n",
       "    <tr>\n",
       "      <th>890</th>\n",
       "      <td>3</td>\n",
       "      <td>1</td>\n",
       "      <td>32.0</td>\n",
       "      <td>0</td>\n",
       "      <td>0</td>\n",
       "      <td>7.7500</td>\n",
       "      <td>1</td>\n",
       "    </tr>\n",
       "  </tbody>\n",
       "</table>\n",
       "<p>891 rows × 7 columns</p>\n",
       "</div>"
      ],
      "text/plain": [
       "     Pclass  Sex   Age  SibSp  Parch     Fare  Embarked\n",
       "0         3    1  22.0      1      0   7.2500         2\n",
       "1         1    0  38.0      1      0  71.2833         0\n",
       "2         3    0  26.0      0      0   7.9250         2\n",
       "3         1    0  35.0      1      0  53.1000         2\n",
       "4         3    1  35.0      0      0   8.0500         2\n",
       "..      ...  ...   ...    ...    ...      ...       ...\n",
       "886       2    1  27.0      0      0  13.0000         2\n",
       "887       1    0  19.0      0      0  30.0000         2\n",
       "888       3    0  19.0      1      2  23.4500         2\n",
       "889       1    1  26.0      0      0  30.0000         0\n",
       "890       3    1  32.0      0      0   7.7500         1\n",
       "\n",
       "[891 rows x 7 columns]"
      ]
     },
     "execution_count": 10,
     "metadata": {},
     "output_type": "execute_result"
    }
   ],
   "source": [
    "df"
   ]
  },
  {
   "cell_type": "markdown",
   "id": "f3709c12-98d4-40b8-89b6-07992fbdc8fc",
   "metadata": {},
   "source": [
    "### Splitting Data into Training and Testing Sets ###"
   ]
  },
  {
   "cell_type": "code",
   "execution_count": 20,
   "id": "52e0c9c6-f44d-4a49-8c99-3d142658ff2c",
   "metadata": {},
   "outputs": [],
   "source": [
    "df['Age']=df['Age'].fillna(0)\n",
    "\n",
    "from sklearn.model_selection import train_test_split\n",
    "x_train,x_test,y_train,y_test=train_test_split(df,target,test_size=0.25, random_state=42) # target is target=df['Survived']"
   ]
  },
  {
   "cell_type": "markdown",
   "id": "33e98fef-0000-4bf7-b4f8-5b99ec5b7611",
   "metadata": {},
   "source": [
    "### SVM ###"
   ]
  },
  {
   "cell_type": "code",
   "execution_count": 21,
   "id": "f37e0968-ca9e-480e-b7a9-1ec1d54b11ae",
   "metadata": {},
   "outputs": [],
   "source": [
    "# The code imports the svm module from scikit-learn, creates a Support Vector Classifier (SVC),\n",
    "# fits it on the training data (x_train and y_train),\n",
    "# and then uses the trained model to predict the labels for x_test, storing the predictions in s_predicted.\n",
    "\n",
    "from sklearn import svm\n",
    "\n",
    "s=svm.SVC().fit(x_train,y_train)\n",
    "s_predicted=s.predict(x_test)"
   ]
  },
  {
   "cell_type": "code",
   "execution_count": 22,
   "id": "dad641b2-8fb3-45ed-9198-93eb88fb6444",
   "metadata": {},
   "outputs": [
    {
     "name": "stdout",
     "output_type": "stream",
     "text": [
      "              precision    recall  f1-score   support\n",
      "\n",
      "           0       0.65      0.93      0.77       134\n",
      "           1       0.71      0.25      0.37        89\n",
      "\n",
      "    accuracy                           0.66       223\n",
      "   macro avg       0.68      0.59      0.57       223\n",
      "weighted avg       0.67      0.66      0.61       223\n",
      "\n"
     ]
    }
   ],
   "source": [
    "from sklearn import metrics\n",
    "print(metrics.classification_report(y_test,s_predicted))"
   ]
  },
  {
   "cell_type": "markdown",
   "id": "bdd3fad4-fe68-4659-b2ec-df9a4a3a419d",
   "metadata": {},
   "source": [
    "### DecisionTreeClassifier ###"
   ]
  },
  {
   "cell_type": "code",
   "execution_count": 23,
   "id": "7a38ee77-7dfe-4f95-a96a-83670bdec741",
   "metadata": {},
   "outputs": [],
   "source": [
    "from sklearn.tree import DecisionTreeClassifier\n",
    "\n",
    "dt=DecisionTreeClassifier().fit(x_train,y_train)\n",
    "dt_predicted=dt.predict(x_test)"
   ]
  },
  {
   "cell_type": "code",
   "execution_count": null,
   "id": "93c851d3-35d6-4ee1-8b66-28afefa48402",
   "metadata": {},
   "outputs": [],
   "source": []
  },
  {
   "cell_type": "code",
   "execution_count": 24,
   "id": "afbb34fc-4def-4420-ad0a-d023e77b8615",
   "metadata": {},
   "outputs": [
    {
     "name": "stdout",
     "output_type": "stream",
     "text": [
      "              precision    recall  f1-score   support\n",
      "\n",
      "           0       0.81      0.78      0.79       134\n",
      "           1       0.68      0.73      0.71        89\n",
      "\n",
      "    accuracy                           0.76       223\n",
      "   macro avg       0.75      0.75      0.75       223\n",
      "weighted avg       0.76      0.76      0.76       223\n",
      "\n"
     ]
    }
   ],
   "source": [
    "print(metrics.classification_report(y_test,dt_predicted))"
   ]
  },
  {
   "cell_type": "markdown",
   "id": "e9c168ea-5ec8-4b58-bbc0-59b3f233a94c",
   "metadata": {},
   "source": [
    "### RandomForestRegressor ###"
   ]
  },
  {
   "cell_type": "code",
   "execution_count": 25,
   "id": "c861f4ee-59a7-4c76-a349-fb0c420b15fc",
   "metadata": {},
   "outputs": [],
   "source": [
    "from sklearn.ensemble import RandomForestRegressor\n",
    "rf=RandomForestRegressor().fit(x_train,y_train)\n",
    "rf_predicted=rf.predict(x_test)"
   ]
  },
  {
   "cell_type": "code",
   "execution_count": 26,
   "id": "c0259e27-8d0d-4bdc-ae7f-9a9b59076563",
   "metadata": {},
   "outputs": [
    {
     "name": "stdout",
     "output_type": "stream",
     "text": [
      "Mean Squared Error: 0.15143918526201378\n"
     ]
    }
   ],
   "source": [
    "\n",
    "from sklearn.metrics import mean_squared_error\n",
    "# ارزیابی مدل\n",
    "print(\"Mean Squared Error:\", mean_squared_error(y_test, rf_predicted))"
   ]
  },
  {
   "cell_type": "markdown",
   "id": "4751f44e-657d-40d4-a394-571df6df164f",
   "metadata": {},
   "source": [
    "### AdaBoostClassifier ###"
   ]
  },
  {
   "cell_type": "code",
   "execution_count": 27,
   "id": "5caed1d1-b3fd-4f03-b95c-7b6fe63ff4bf",
   "metadata": {},
   "outputs": [
    {
     "name": "stdout",
     "output_type": "stream",
     "text": [
      "Cross-Validation Scores: [0.75418994 0.80898876 0.76966292 0.78089888 0.81460674]\n",
      "Mean Accuracy: 0.785669449500973\n",
      "Accuracy: 0.7985074626865671\n"
     ]
    }
   ],
   "source": [
    "from sklearn.ensemble import AdaBoostClassifier\n",
    "from sklearn.svm import LinearSVC\n",
    "from sklearn.datasets import make_classification\n",
    "from sklearn.model_selection import train_test_split\n",
    "from sklearn.metrics import accuracy_score\n",
    "\n",
    "\n",
    "# split the data\n",
    "x_train, x_test, y_train, y_test = train_test_split(df, target, test_size=0.3, random_state=42)\n",
    "\n",
    "# Basic LinearSVC model\n",
    "base_model = LinearSVC(max_iter=10000)\n",
    "\n",
    "# AdaBoost model with 'SAMME' algorithm\n",
    "adaboost = AdaBoostClassifier(estimator=base_model, n_estimators=50, random_state=42, algorithm='SAMME')\n",
    "from sklearn.model_selection import cross_val_score\n",
    "\n",
    "# Using cross-validation for better evaluation\n",
    "scores = cross_val_score(adaboost,df, target, cv=5)  # cv=5 یعنی تقسیم داده‌ها به 5 بخش\n",
    "print(\"Cross-Validation Scores:\", scores)\n",
    "print(\"Mean Accuracy:\", scores.mean())\n",
    "\n",
    "adaboost.fit(x_train, y_train)\n",
    "\n",
    "# prediction\n",
    "y_pred = adaboost.predict(x_test)\n",
    "\n",
    "# Evaluation\n",
    "accuracy = accuracy_score(y_test, y_pred)\n",
    "print(\"Accuracy:\", accuracy)\n"
   ]
  },
  {
   "cell_type": "markdown",
   "id": "848a8b32-6a8f-47b1-a9fe-6662091a2d82",
   "metadata": {},
   "source": [
    "### XGBClassifier ###"
   ]
  },
  {
   "cell_type": "code",
   "execution_count": 28,
   "id": "4ba8fedf-d047-423a-8257-e9210cb905a0",
   "metadata": {},
   "outputs": [
    {
     "name": "stdout",
     "output_type": "stream",
     "text": [
      "Accuracy with XGBoost: 0.7947761194029851\n"
     ]
    }
   ],
   "source": [
    "from xgboost import XGBClassifier\n",
    "\n",
    "from sklearn.metrics import accuracy_score\n",
    "\n",
    "# split the data\n",
    "x_train, x_test, y_train, y_test = train_test_split(df, target, test_size=0.3, random_state=42)\n",
    "\n",
    "# Creating an XGBoost model\n",
    "xgb_model = XGBClassifier(n_estimators=100, random_state=42)\n",
    "\n",
    "# Model training\n",
    "xgb_model.fit(x_train, y_train)\n",
    "\n",
    "# prediction\n",
    "y_pred = xgb_model.predict(x_test)\n",
    "\n",
    "# Evaluation\n",
    "accuracy = accuracy_score(y_test, y_pred)\n",
    "print(\"Accuracy with XGBoost:\", accuracy)\n"
   ]
  },
  {
   "cell_type": "markdown",
   "id": "bfe767db-d968-47b3-94ca-9cccd1e20899",
   "metadata": {},
   "source": [
    "### MLPClassifier (Multi Layer Percepteron) NeoralNetwork ###"
   ]
  },
  {
   "cell_type": "code",
   "execution_count": 30,
   "id": "a57e6341-c28a-49fd-9831-781a1333d527",
   "metadata": {},
   "outputs": [
    {
     "name": "stdout",
     "output_type": "stream",
     "text": [
      "Accuracy with Neural Network: 0.7821229050279329\n"
     ]
    }
   ],
   "source": [
    "from sklearn.neural_network import MLPClassifier\n",
    "from sklearn.model_selection import train_test_split\n",
    "from sklearn.metrics import accuracy_score\n",
    "\n",
    "# split the data\n",
    "x_train, x_test, y_train, y_test = train_test_split(df, target, test_size=0.2, random_state=42)\n",
    "\n",
    "# Creating a neural network model\n",
    "mlp_model = MLPClassifier(hidden_layer_sizes=(50,), max_iter=500, random_state=42)\n",
    "\n",
    "# Model training\n",
    "mlp_model.fit(x_train, y_train)\n",
    "\n",
    "# prediction\n",
    "y_pred = mlp_model.predict(x_test)\n",
    "\n",
    "# Evaluation\n",
    "accuracy = accuracy_score(y_test, y_pred)\n",
    "print(\"Accuracy with Neural Network:\", accuracy)\n"
   ]
  },
  {
   "cell_type": "markdown",
   "id": "72ad27b4-adfa-4e96-8790-deaf70bdba60",
   "metadata": {},
   "source": [
    "### Comparison of classification algorithms ###"
   ]
  },
  {
   "cell_type": "code",
   "execution_count": 58,
   "id": "d289c7e1-963d-4f61-b5fe-7ac5d3655ba2",
   "metadata": {},
   "outputs": [
    {
     "name": "stdout",
     "output_type": "stream",
     "text": [
      "0:\tlearn: 0.6623561\ttotal: 644us\tremaining: 63.9ms\n",
      "1:\tlearn: 0.6309043\ttotal: 1.2ms\tremaining: 58.7ms\n",
      "2:\tlearn: 0.6072556\ttotal: 1.44ms\tremaining: 46.5ms\n",
      "3:\tlearn: 0.5825539\ttotal: 1.9ms\tremaining: 45.6ms\n",
      "4:\tlearn: 0.5604608\ttotal: 2.39ms\tremaining: 45.4ms\n",
      "5:\tlearn: 0.5432121\ttotal: 2.77ms\tremaining: 43.4ms\n",
      "6:\tlearn: 0.5264613\ttotal: 3.27ms\tremaining: 43.4ms\n",
      "7:\tlearn: 0.5111308\ttotal: 3.72ms\tremaining: 42.8ms\n",
      "8:\tlearn: 0.4998120\ttotal: 4.04ms\tremaining: 40.9ms\n",
      "9:\tlearn: 0.4880692\ttotal: 4.42ms\tremaining: 39.7ms\n",
      "10:\tlearn: 0.4788704\ttotal: 4.88ms\tremaining: 39.4ms\n",
      "11:\tlearn: 0.4717463\ttotal: 5.36ms\tremaining: 39.3ms\n",
      "12:\tlearn: 0.4661604\ttotal: 5.72ms\tremaining: 38.3ms\n",
      "13:\tlearn: 0.4604273\ttotal: 6.22ms\tremaining: 38.2ms\n",
      "14:\tlearn: 0.4540260\ttotal: 6.75ms\tremaining: 38.2ms\n",
      "15:\tlearn: 0.4481806\ttotal: 7.3ms\tremaining: 38.3ms\n",
      "16:\tlearn: 0.4428424\ttotal: 7.8ms\tremaining: 38.1ms\n",
      "17:\tlearn: 0.4385496\ttotal: 8.4ms\tremaining: 38.3ms\n",
      "18:\tlearn: 0.4339101\ttotal: 8.89ms\tremaining: 37.9ms\n",
      "19:\tlearn: 0.4294881\ttotal: 9.44ms\tremaining: 37.8ms\n",
      "20:\tlearn: 0.4247784\ttotal: 9.91ms\tremaining: 37.3ms\n",
      "21:\tlearn: 0.4221583\ttotal: 10.4ms\tremaining: 36.9ms\n",
      "22:\tlearn: 0.4191868\ttotal: 10.9ms\tremaining: 36.6ms\n",
      "23:\tlearn: 0.4169312\ttotal: 11.4ms\tremaining: 36ms\n",
      "24:\tlearn: 0.4149803\ttotal: 11.8ms\tremaining: 35.5ms\n",
      "25:\tlearn: 0.4114947\ttotal: 12.4ms\tremaining: 35.3ms\n",
      "26:\tlearn: 0.4091841\ttotal: 12.8ms\tremaining: 34.5ms\n",
      "27:\tlearn: 0.4065780\ttotal: 13.3ms\tremaining: 34.1ms\n",
      "28:\tlearn: 0.4041700\ttotal: 13.8ms\tremaining: 33.7ms\n",
      "29:\tlearn: 0.4021407\ttotal: 14.1ms\tremaining: 32.9ms\n",
      "30:\tlearn: 0.3993727\ttotal: 14.7ms\tremaining: 32.6ms\n",
      "31:\tlearn: 0.3980522\ttotal: 15.1ms\tremaining: 32.2ms\n",
      "32:\tlearn: 0.3959670\ttotal: 15.6ms\tremaining: 31.7ms\n",
      "33:\tlearn: 0.3944177\ttotal: 16.1ms\tremaining: 31.3ms\n",
      "34:\tlearn: 0.3926767\ttotal: 16.6ms\tremaining: 30.9ms\n",
      "35:\tlearn: 0.3909448\ttotal: 17.2ms\tremaining: 30.5ms\n",
      "36:\tlearn: 0.3893607\ttotal: 17.8ms\tremaining: 30.4ms\n",
      "37:\tlearn: 0.3882918\ttotal: 18.4ms\tremaining: 29.9ms\n",
      "38:\tlearn: 0.3874351\ttotal: 18.9ms\tremaining: 29.5ms\n",
      "39:\tlearn: 0.3864996\ttotal: 19.3ms\tremaining: 29ms\n",
      "40:\tlearn: 0.3861897\ttotal: 19.8ms\tremaining: 28.5ms\n",
      "41:\tlearn: 0.3851404\ttotal: 20.4ms\tremaining: 28.1ms\n",
      "42:\tlearn: 0.3839554\ttotal: 20.9ms\tremaining: 27.7ms\n",
      "43:\tlearn: 0.3837532\ttotal: 21.1ms\tremaining: 26.8ms\n",
      "44:\tlearn: 0.3836447\ttotal: 21.2ms\tremaining: 25.9ms\n",
      "45:\tlearn: 0.3825592\ttotal: 21.7ms\tremaining: 25.5ms\n",
      "46:\tlearn: 0.3817421\ttotal: 22.2ms\tremaining: 25ms\n",
      "47:\tlearn: 0.3811652\ttotal: 22.7ms\tremaining: 24.6ms\n",
      "48:\tlearn: 0.3800371\ttotal: 23.2ms\tremaining: 24.1ms\n",
      "49:\tlearn: 0.3790930\ttotal: 23.6ms\tremaining: 23.6ms\n",
      "50:\tlearn: 0.3784022\ttotal: 24.1ms\tremaining: 23.2ms\n",
      "51:\tlearn: 0.3773376\ttotal: 24.6ms\tremaining: 22.7ms\n",
      "52:\tlearn: 0.3764254\ttotal: 25.1ms\tremaining: 22.3ms\n",
      "53:\tlearn: 0.3758223\ttotal: 25.7ms\tremaining: 21.9ms\n",
      "54:\tlearn: 0.3751951\ttotal: 26.1ms\tremaining: 21.4ms\n",
      "55:\tlearn: 0.3744925\ttotal: 26.7ms\tremaining: 20.9ms\n",
      "56:\tlearn: 0.3737568\ttotal: 27.1ms\tremaining: 20.5ms\n",
      "57:\tlearn: 0.3731604\ttotal: 27.7ms\tremaining: 20.1ms\n",
      "58:\tlearn: 0.3726457\ttotal: 28.3ms\tremaining: 19.7ms\n",
      "59:\tlearn: 0.3718364\ttotal: 28.8ms\tremaining: 19.2ms\n",
      "60:\tlearn: 0.3713400\ttotal: 29.3ms\tremaining: 18.7ms\n",
      "61:\tlearn: 0.3710309\ttotal: 29.8ms\tremaining: 18.3ms\n",
      "62:\tlearn: 0.3705843\ttotal: 30.3ms\tremaining: 17.8ms\n",
      "63:\tlearn: 0.3702499\ttotal: 30.8ms\tremaining: 17.3ms\n",
      "64:\tlearn: 0.3701077\ttotal: 31.1ms\tremaining: 16.8ms\n",
      "65:\tlearn: 0.3693488\ttotal: 31.7ms\tremaining: 16.3ms\n",
      "66:\tlearn: 0.3689807\ttotal: 32.2ms\tremaining: 15.9ms\n",
      "67:\tlearn: 0.3681276\ttotal: 32.8ms\tremaining: 15.4ms\n",
      "68:\tlearn: 0.3680248\ttotal: 33ms\tremaining: 14.8ms\n",
      "69:\tlearn: 0.3674116\ttotal: 33.4ms\tremaining: 14.3ms\n",
      "70:\tlearn: 0.3662929\ttotal: 34ms\tremaining: 13.9ms\n",
      "71:\tlearn: 0.3661444\ttotal: 34.3ms\tremaining: 13.4ms\n",
      "72:\tlearn: 0.3652717\ttotal: 34.8ms\tremaining: 12.9ms\n",
      "73:\tlearn: 0.3649893\ttotal: 35.3ms\tremaining: 12.4ms\n",
      "74:\tlearn: 0.3644557\ttotal: 35.8ms\tremaining: 11.9ms\n",
      "75:\tlearn: 0.3643305\ttotal: 36.3ms\tremaining: 11.5ms\n",
      "76:\tlearn: 0.3641452\ttotal: 36.8ms\tremaining: 11ms\n",
      "77:\tlearn: 0.3635760\ttotal: 37.3ms\tremaining: 10.5ms\n",
      "78:\tlearn: 0.3630968\ttotal: 37.8ms\tremaining: 10ms\n",
      "79:\tlearn: 0.3621482\ttotal: 38.4ms\tremaining: 9.59ms\n",
      "80:\tlearn: 0.3619549\ttotal: 38.9ms\tremaining: 9.12ms\n",
      "81:\tlearn: 0.3615025\ttotal: 39.4ms\tremaining: 8.65ms\n",
      "82:\tlearn: 0.3610535\ttotal: 39.9ms\tremaining: 8.17ms\n",
      "83:\tlearn: 0.3608770\ttotal: 40.5ms\tremaining: 7.71ms\n",
      "84:\tlearn: 0.3605215\ttotal: 41ms\tremaining: 7.23ms\n",
      "85:\tlearn: 0.3600268\ttotal: 41.5ms\tremaining: 6.75ms\n",
      "86:\tlearn: 0.3599587\ttotal: 41.8ms\tremaining: 6.25ms\n",
      "87:\tlearn: 0.3595985\ttotal: 42.3ms\tremaining: 5.77ms\n",
      "88:\tlearn: 0.3592037\ttotal: 42.8ms\tremaining: 5.29ms\n",
      "89:\tlearn: 0.3589262\ttotal: 43.3ms\tremaining: 4.81ms\n",
      "90:\tlearn: 0.3587516\ttotal: 43.8ms\tremaining: 4.33ms\n",
      "91:\tlearn: 0.3584359\ttotal: 44.3ms\tremaining: 3.85ms\n",
      "92:\tlearn: 0.3579509\ttotal: 44.8ms\tremaining: 3.37ms\n",
      "93:\tlearn: 0.3577889\ttotal: 45.3ms\tremaining: 2.89ms\n",
      "94:\tlearn: 0.3575437\ttotal: 45.8ms\tremaining: 2.41ms\n",
      "95:\tlearn: 0.3571524\ttotal: 46.4ms\tremaining: 1.93ms\n",
      "96:\tlearn: 0.3565310\ttotal: 46.9ms\tremaining: 1.45ms\n",
      "97:\tlearn: 0.3555359\ttotal: 47.4ms\tremaining: 966us\n",
      "98:\tlearn: 0.3554134\ttotal: 47.9ms\tremaining: 483us\n",
      "99:\tlearn: 0.3551188\ttotal: 48.4ms\tremaining: 0us\n",
      "[LightGBM] [Info] Number of positive: 268, number of negative: 444\n",
      "[LightGBM] [Info] Auto-choosing row-wise multi-threading, the overhead of testing was 0.000077 seconds.\n",
      "You can set `force_row_wise=true` to remove the overhead.\n",
      "And if memory is not enough, you can set `force_col_wise=true`.\n",
      "[LightGBM] [Info] Total Bins 198\n",
      "[LightGBM] [Info] Number of data points in the train set: 712, number of used features: 7\n",
      "[LightGBM] [Info] [binary:BoostFromScore]: pavg=0.376404 -> initscore=-0.504838\n",
      "[LightGBM] [Info] Start training from score -0.504838\n",
      "[LightGBM] [Warning] No further splits with positive gain, best gain: -inf\n",
      "[LightGBM] [Warning] No further splits with positive gain, best gain: -inf\n",
      "[LightGBM] [Warning] No further splits with positive gain, best gain: -inf\n",
      "[LightGBM] [Warning] No further splits with positive gain, best gain: -inf\n",
      "[LightGBM] [Warning] No further splits with positive gain, best gain: -inf\n",
      "[LightGBM] [Warning] No further splits with positive gain, best gain: -inf\n",
      "[LightGBM] [Warning] No further splits with positive gain, best gain: -inf\n",
      "[LightGBM] [Warning] No further splits with positive gain, best gain: -inf\n",
      "[LightGBM] [Warning] No further splits with positive gain, best gain: -inf\n",
      "[LightGBM] [Warning] No further splits with positive gain, best gain: -inf\n",
      "[LightGBM] [Warning] No further splits with positive gain, best gain: -inf\n",
      "[LightGBM] [Warning] No further splits with positive gain, best gain: -inf\n",
      "[LightGBM] [Warning] No further splits with positive gain, best gain: -inf\n",
      "[LightGBM] [Warning] No further splits with positive gain, best gain: -inf\n",
      "[LightGBM] [Warning] No further splits with positive gain, best gain: -inf\n",
      "[LightGBM] [Warning] No further splits with positive gain, best gain: -inf\n",
      "[LightGBM] [Warning] No further splits with positive gain, best gain: -inf\n",
      "[LightGBM] [Warning] No further splits with positive gain, best gain: -inf\n",
      "[LightGBM] [Warning] No further splits with positive gain, best gain: -inf\n",
      "[LightGBM] [Warning] No further splits with positive gain, best gain: -inf\n",
      "[LightGBM] [Warning] No further splits with positive gain, best gain: -inf\n",
      "[LightGBM] [Warning] No further splits with positive gain, best gain: -inf\n",
      "[LightGBM] [Warning] No further splits with positive gain, best gain: -inf\n",
      "[LightGBM] [Warning] No further splits with positive gain, best gain: -inf\n",
      "[LightGBM] [Warning] No further splits with positive gain, best gain: -inf\n",
      "[LightGBM] [Warning] No further splits with positive gain, best gain: -inf\n",
      "[LightGBM] [Warning] No further splits with positive gain, best gain: -inf\n",
      "[LightGBM] [Warning] No further splits with positive gain, best gain: -inf\n",
      "[LightGBM] [Warning] No further splits with positive gain, best gain: -inf\n",
      "[LightGBM] [Warning] No further splits with positive gain, best gain: -inf\n",
      "[LightGBM] [Warning] No further splits with positive gain, best gain: -inf\n",
      "[LightGBM] [Warning] No further splits with positive gain, best gain: -inf\n",
      "[LightGBM] [Warning] No further splits with positive gain, best gain: -inf\n",
      "[LightGBM] [Warning] No further splits with positive gain, best gain: -inf\n",
      "[LightGBM] [Warning] No further splits with positive gain, best gain: -inf\n",
      "[LightGBM] [Warning] No further splits with positive gain, best gain: -inf\n",
      "[LightGBM] [Warning] No further splits with positive gain, best gain: -inf\n",
      "[LightGBM] [Warning] No further splits with positive gain, best gain: -inf\n",
      "[LightGBM] [Warning] No further splits with positive gain, best gain: -inf\n",
      "[LightGBM] [Warning] No further splits with positive gain, best gain: -inf\n",
      "[LightGBM] [Warning] No further splits with positive gain, best gain: -inf\n",
      "[LightGBM] [Warning] No further splits with positive gain, best gain: -inf\n",
      "[LightGBM] [Warning] No further splits with positive gain, best gain: -inf\n",
      "[LightGBM] [Warning] No further splits with positive gain, best gain: -inf\n",
      "[LightGBM] [Warning] No further splits with positive gain, best gain: -inf\n",
      "[LightGBM] [Warning] No further splits with positive gain, best gain: -inf\n",
      "[LightGBM] [Warning] No further splits with positive gain, best gain: -inf\n",
      "[LightGBM] [Warning] No further splits with positive gain, best gain: -inf\n",
      "[LightGBM] [Warning] No further splits with positive gain, best gain: -inf\n",
      "[LightGBM] [Warning] No further splits with positive gain, best gain: -inf\n",
      "[LightGBM] [Warning] No further splits with positive gain, best gain: -inf\n",
      "[LightGBM] [Warning] No further splits with positive gain, best gain: -inf\n",
      "[LightGBM] [Warning] No further splits with positive gain, best gain: -inf\n",
      "[LightGBM] [Warning] No further splits with positive gain, best gain: -inf\n",
      "[LightGBM] [Warning] No further splits with positive gain, best gain: -inf\n",
      "[LightGBM] [Warning] No further splits with positive gain, best gain: -inf\n",
      "[LightGBM] [Warning] No further splits with positive gain, best gain: -inf\n",
      "[LightGBM] [Warning] No further splits with positive gain, best gain: -inf\n",
      "[LightGBM] [Warning] No further splits with positive gain, best gain: -inf\n",
      "[LightGBM] [Warning] No further splits with positive gain, best gain: -inf\n",
      "[LightGBM] [Warning] No further splits with positive gain, best gain: -inf\n",
      "[LightGBM] [Warning] No further splits with positive gain, best gain: -inf\n",
      "[LightGBM] [Warning] No further splits with positive gain, best gain: -inf\n",
      "[LightGBM] [Warning] No further splits with positive gain, best gain: -inf\n",
      "[LightGBM] [Warning] No further splits with positive gain, best gain: -inf\n",
      "[LightGBM] [Warning] No further splits with positive gain, best gain: -inf\n",
      "[LightGBM] [Warning] No further splits with positive gain, best gain: -inf\n",
      "[LightGBM] [Warning] No further splits with positive gain, best gain: -inf\n",
      "[LightGBM] [Warning] No further splits with positive gain, best gain: -inf\n",
      "[LightGBM] [Warning] No further splits with positive gain, best gain: -inf\n",
      "[LightGBM] [Warning] No further splits with positive gain, best gain: -inf\n",
      "[LightGBM] [Warning] No further splits with positive gain, best gain: -inf\n",
      "[LightGBM] [Warning] No further splits with positive gain, best gain: -inf\n",
      "[LightGBM] [Warning] No further splits with positive gain, best gain: -inf\n",
      "[LightGBM] [Warning] No further splits with positive gain, best gain: -inf\n",
      "[LightGBM] [Warning] No further splits with positive gain, best gain: -inf\n",
      "[LightGBM] [Warning] No further splits with positive gain, best gain: -inf\n",
      "[LightGBM] [Warning] No further splits with positive gain, best gain: -inf\n",
      "[LightGBM] [Warning] No further splits with positive gain, best gain: -inf\n",
      "[LightGBM] [Warning] No further splits with positive gain, best gain: -inf\n",
      "[LightGBM] [Warning] No further splits with positive gain, best gain: -inf\n",
      "[LightGBM] [Warning] No further splits with positive gain, best gain: -inf\n",
      "[LightGBM] [Warning] No further splits with positive gain, best gain: -inf\n",
      "[LightGBM] [Warning] No further splits with positive gain, best gain: -inf\n",
      "[LightGBM] [Warning] No further splits with positive gain, best gain: -inf\n",
      "[LightGBM] [Warning] No further splits with positive gain, best gain: -inf\n",
      "[LightGBM] [Warning] No further splits with positive gain, best gain: -inf\n",
      "[LightGBM] [Warning] No further splits with positive gain, best gain: -inf\n",
      "[LightGBM] [Warning] No further splits with positive gain, best gain: -inf\n",
      "[LightGBM] [Warning] No further splits with positive gain, best gain: -inf\n",
      "[LightGBM] [Warning] No further splits with positive gain, best gain: -inf\n",
      "[LightGBM] [Warning] No further splits with positive gain, best gain: -inf\n",
      "[LightGBM] [Warning] No further splits with positive gain, best gain: -inf\n",
      "[LightGBM] [Warning] No further splits with positive gain, best gain: -inf\n",
      "[LightGBM] [Warning] No further splits with positive gain, best gain: -inf\n",
      "[LightGBM] [Warning] No further splits with positive gain, best gain: -inf\n",
      "[LightGBM] [Warning] No further splits with positive gain, best gain: -inf\n",
      "[LightGBM] [Warning] No further splits with positive gain, best gain: -inf\n"
     ]
    },
    {
     "name": "stderr",
     "output_type": "stream",
     "text": [
      "/var/folders/b1/j7bxlsgn4wj0vdb4f570sq4m0000gn/T/ipykernel_965/2392863990.py:67: FutureWarning: \n",
      "\n",
      "Passing `palette` without assigning `hue` is deprecated and will be removed in v0.14.0. Assign the `x` variable to `hue` and set `legend=False` for the same effect.\n",
      "\n",
      "  sns.barplot(x=\"Model\", y=\"Accuracy\", data=results_df, palette=\"Blues_d\")\n"
     ]
    },
    {
     "data": {
      "image/png": "[encoded data removed]",
      "text/plain": [
       "<Figure size 1100x300 with 1 Axes>"
      ]
     },
     "metadata": {},
     "output_type": "display_data"
    },
    {
     "name": "stdout",
     "output_type": "stream",
     "text": [
      "       Model  Accuracy  Precision    Recall  F1 Score   ROC-AUC\n",
      "0        SVM  0.653631   0.750000  0.243243  0.367347  0.813642\n",
      "1  Decisi...  0.804469   0.760000  0.770270  0.765101  0.807593\n",
      "2  Logist...  0.804469   0.782609  0.729730  0.755245  0.887773\n",
      "3  Random...  0.837989   0.808219  0.797297  0.802721  0.885907\n",
      "4  MLPCla...  0.782123   0.739726  0.729730  0.734694  0.877606\n",
      "5  CatBoo...  0.815642   0.815385  0.716216  0.762590  0.895624\n",
      "6  LGBMCl...  0.832402   0.805556  0.783784  0.794521  0.892021\n"
     ]
    }
   ],
   "source": [
    "import numpy as np\n",
    "import pandas as pd\n",
    "import matplotlib.pyplot as plt\n",
    "import seaborn as sns\n",
    "from sklearn.model_selection import train_test_split\n",
    "from sklearn.metrics import accuracy_score, precision_score, recall_score, f1_score, roc_auc_score\n",
    "from sklearn.svm import SVC\n",
    "from sklearn.tree import DecisionTreeClassifier\n",
    "from sklearn.linear_model import LogisticRegression\n",
    "from sklearn.datasets import load_iris\n",
    "from sklearn.ensemble import RandomForestClassifier\n",
    "from catboost import CatBoostClassifier\n",
    "import lightgbm as lgb\n",
    "from sklearn.neural_network import MLPClassifier\n",
    "\n",
    "\n",
    "\n",
    "# data\n",
    "data = load_iris()\n",
    "X, y = df, target\n",
    "\n",
    "# We select only two classes (for simplicity).\n",
    "X = X[y != 2]\n",
    "y = y[y != 2]\n",
    "\n",
    "# split the data\n",
    "X_train, X_test, y_train, y_test = train_test_split(X, y, test_size=0.2, random_state=42)\n",
    "\n",
    "# models\n",
    "models = {\n",
    "    \"SVM\": SVC(probability=True, random_state=42),\n",
    "    \"Decision Tree\": DecisionTreeClassifier(random_state=42),\n",
    "    \"Logistic Regression\": LogisticRegression(random_state=42),\n",
    "    \"Random Forest\": RandomForestClassifier(random_state=42),\n",
    "    \"MLPClassifier\":MLPClassifier(hidden_layer_sizes=(50,), max_iter=500, random_state=42),\n",
    "    \"CatBoostClassifier\":CatBoostClassifier(iterations=100, learning_rate=0.1, depth=6, random_state=42),   \n",
    "    \"LGBMClassifier\":lgb.LGBMClassifier(n_estimators=100, random_state=42)\n",
    "     \n",
    "    \n",
    "    \n",
    "}\n",
    "\n",
    "# Save the results\n",
    "results = []\n",
    "\n",
    "for name, model in models.items():\n",
    "    model.fit(X_train, y_train)\n",
    "    y_pred = model.predict(X_test)\n",
    "    y_prob = model.predict_proba(X_test)[:, 1] if hasattr(model, \"predict_proba\") else None\n",
    "    \n",
    "    results.append({\n",
    "        \"Model\": name,\n",
    "        \"Accuracy\": accuracy_score(y_test, y_pred),\n",
    "        \"Precision\": precision_score(y_test, y_pred),\n",
    "        \"Recall\": recall_score(y_test, y_pred),\n",
    "        \"F1 Score\": f1_score(y_test, y_pred),\n",
    "        \"ROC-AUC\": roc_auc_score(y_test, y_prob) if y_prob is not None else None\n",
    "    })\n",
    "\n",
    "# Convert to DataFrame\n",
    "\n",
    "results_df = pd.DataFrame(results)\n",
    "\n",
    "# Draw a diagram\n",
    "\n",
    "plt.figure(figsize=(11, 3))\n",
    "sns.barplot(x=\"Model\", y=\"Accuracy\", data=results_df, palette=\"Blues_d\")\n",
    "plt.title(\"Model Comparison \")\n",
    "plt.show()\n",
    "\n",
    "# Display all criteria\n",
    "print(results_df)\n"
   ]
  },
  {
   "cell_type": "markdown",
   "id": "b73533cb-187e-45e7-91cd-1bc9193eff50",
   "metadata": {},
   "source": [
    "\n",
    "\n",
    "\n",
    "\n",
    "\n",
    "\n",
    "\n",
    "### Conclusion ###"
   ]
  },
  {
   "cell_type": "markdown",
   "id": "fc270886-a7ed-42d1-9485-93a9297cd0bc",
   "metadata": {},
   "source": [
    "Based on the results, it can be concluded that: - The **SVM model** has poor performance with an accuracy of 65.4% and a low recall of 24.3%, meaning it struggles to identify positive cases (survival). - Other models like Decision Tree, Logistic Regression, Random Forest, MLP Classifier, CatBoost, and LGBM perform better. - The **Random Forest model** has the highest accuracy (83.8%) with precision (80.8%), recall (79.7%), and F1 score (80.3%) indicating a good balance in model performance. - Moreover, the **CatBoost** and **LGBM models** have high ROC-AUC values (89.6% and 89.2%, respectively), which shows strong ability to differentiate between positive and negative classes. Thus, for survival prediction and improving model accuracy, it is recommended to use models like Random Forest, CatBoost, or LGBM. for 5 seconds\n",
    "Based on the results, we can conclude that:\n",
    "\n",
    "The SVM model performs poorly with an accuracy of 65.4% and a recall of only 24.3%, indicating a low ability to identify positive cases (survivors).\n",
    "Other models, such as Decision Tree, Logistic Regression, Random Forest, MLP Classifier, CatBoost, and LGBM, have delivered better performance.\n",
    "The Random Forest model shows the highest accuracy (83.8%), and its precision (80.8%), recall (79.7%), and F1 score (80.3%) indicate a well-balanced performance.\n",
    "Additionally, the CatBoost and LGBM models have high ROC-AUC values (89.6% and 89.2% respectively), demonstrating a strong ability to distinguish between positive and negative classes.\n",
    "\n",
    "**Therefore, for predicting survival and improving model accuracy, it is recommended to use models such as Random Forest, CatBoost, or LGBM.**"
   ]
  }
 ],
 "metadata": {
  "kernelspec": {
   "display_name": "Python 3 (ipykernel)",
   "language": "python",
   "name": "python3"
  },
  "language_info": {
   "codemirror_mode": {
    "name": "ipython",
    "version": 3
   },
   "file_extension": ".py",
   "mimetype": "text/x-python",
   "name": "python",
   "nbconvert_exporter": "python",
   "pygments_lexer": "ipython3",
   "version": "3.12.5"
  }
 },
 "nbformat": 4,
 "nbformat_minor": 5
}
